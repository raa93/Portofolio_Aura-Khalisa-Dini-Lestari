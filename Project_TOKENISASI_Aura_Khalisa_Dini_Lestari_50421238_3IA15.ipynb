{
  "nbformat": 4,
  "nbformat_minor": 0,
  "metadata": {
    "colab": {
      "provenance": []
    },
    "kernelspec": {
      "name": "python3",
      "display_name": "Python 3"
    },
    "language_info": {
      "name": "python"
    }
  },
  "cells": [
    {
      "cell_type": "code",
      "execution_count": 1,
      "metadata": {
        "colab": {
          "base_uri": "https://localhost:8080/"
        },
        "id": "VUY_rfV8LthE",
        "outputId": "b2982d0d-2d5e-4e89-c12a-2bb3cb922367"
      },
      "outputs": [
        {
          "output_type": "stream",
          "name": "stderr",
          "text": [
            "[nltk_data] Downloading package punkt to /root/nltk_data...\n",
            "[nltk_data]   Unzipping tokenizers/punkt.zip.\n"
          ]
        },
        {
          "output_type": "execute_result",
          "data": {
            "text/plain": [
              "True"
            ]
          },
          "metadata": {},
          "execution_count": 1
        }
      ],
      "source": [
        "from gensim.models import Word2Vec\n",
        "from nltk.tokenize import word_tokenize\n",
        "import nltk\n",
        "nltk.download('punkt')"
      ]
    },
    {
      "cell_type": "code",
      "source": [
        "#CORPUS\n",
        "corpus = [\n",
        "    \"Saya Aura Khalisa Dini Lestari dengan NPM 50421238.\",\n",
        "    \"dengan jurusan teknik informatika.\",\n",
        "    \"kuliah di universitas Gunadarma.\",\n",
        "    \"welcome di gunadarma .\"\n",
        "]\n"
      ],
      "metadata": {
        "id": "xqEif9vJLyAW"
      },
      "execution_count": 2,
      "outputs": []
    },
    {
      "cell_type": "code",
      "source": [
        "# Tokenisasi\n",
        "tokenized_corpus = [word_tokenize(sentence.lower()) for sentence in corpus]\n"
      ],
      "metadata": {
        "id": "pWjn4W_fL0Yc"
      },
      "execution_count": 3,
      "outputs": []
    },
    {
      "cell_type": "code",
      "source": [
        "# Membangun model Word2Vec\n",
        "model = Word2Vec(sentences=tokenized_corpus, vector_size=10, window=5, min_count=1, workers=4)\n"
      ],
      "metadata": {
        "id": "nEsMeFLoL18e"
      },
      "execution_count": 6,
      "outputs": []
    },
    {
      "cell_type": "code",
      "source": [
        "# Melihat vektor representasi kata \"yang diinginkan \"\n",
        "vector_language = model.wv['informatika']\n",
        "print(\"Vector representation of 'informatika':\", vector_language)\n"
      ],
      "metadata": {
        "colab": {
          "base_uri": "https://localhost:8080/"
        },
        "id": "27G_qJ90MGVz",
        "outputId": "18244a2e-9db4-4a6c-9497-f1f808b9f69b"
      },
      "execution_count": 7,
      "outputs": [
        {
          "output_type": "stream",
          "name": "stdout",
          "text": [
            "Vector representation of 'informatika': [ 0.0996485  -0.04362444 -0.00599338 -0.05695637  0.03850823  0.02786627\n",
            "  0.06891076  0.06101096  0.09538497  0.09273417]\n"
          ]
        }
      ]
    },
    {
      "cell_type": "code",
      "source": [
        "# Mencari kata-kata yang mirip dengan \"kata yang diinginkan\"\n",
        "similar_words = model.wv.most_similar('universitas', topn=5)\n",
        "print(\"Words similar to 'universitas':\",similar_words)"
      ],
      "metadata": {
        "colab": {
          "base_uri": "https://localhost:8080/"
        },
        "id": "rn0kCgw2MKKb",
        "outputId": "136b2786-588b-450a-f7a1-87b4a0b48a83"
      },
      "execution_count": 8,
      "outputs": [
        {
          "output_type": "stream",
          "name": "stdout",
          "text": [
            "Words similar to 'universitas': [('jurusan', 0.7188844680786133), ('kuliah', 0.704978883266449), ('informatika', 0.6702955961227417), ('lestari', 0.2805505692958832), ('teknik', 0.21427969634532928)]\n"
          ]
        }
      ]
    }
  ]
}